{
 "cells": [
  {
   "cell_type": "markdown",
   "metadata": {},
   "source": [
    "# Data transformation\n",
    "\n",
    "This jupyter notebook contains open source code for transforming a education and employment data. The data “Education and Employment, ASGS and LGA, 2011, 2014-19” is originally from “1410.0 - Data by Region, 2014-19” collection [1] by the Australian Bureau of Statistics (ABS). This data collection contains information about the education and employment in Australia between 2014 and 2019. The ABS (https://www.abs.gov.au) is a national statistical agency in Australia, and provides a wide range of statistical data collections on economic, population, environmental, and social issues."
   ]
  },
  {
   "cell_type": "code",
   "execution_count": 1,
   "metadata": {},
   "outputs": [],
   "source": [
    "# import python libraries\n",
    "\n",
    "import pandas as pd"
   ]
  },
  {
   "cell_type": "code",
   "execution_count": 17,
   "metadata": {},
   "outputs": [],
   "source": [
    "input_file = '14100do0005_2014-19.xlsx'\n",
    "output_file = 'transformed_data.csv' "
   ]
  },
  {
   "cell_type": "code",
   "execution_count": 18,
   "metadata": {},
   "outputs": [],
   "source": [
    "# read data file\n",
    "\n",
    "df = pd.read_excel(input_file, sheet_name = 'Table 1', skiprows=6, header=0, index_col=0)\n",
    "df = df.dropna(subset=['Year'], how='all') # drop rows where it contains null "
   ]
  },
  {
   "cell_type": "code",
   "execution_count": 14,
   "metadata": {},
   "outputs": [],
   "source": [
    "selected_columns = [\n",
    "    'Label', \n",
    "    'Year',\n",
    "    'Completed Year 8 or below (%)',\n",
    "    'Completed Year 9 or equivalent (%)',\n",
    "    'Completed Year 12 or equivalent (%)',\n",
    "    'Completed Year 11 or equivalent (%)',\n",
    "    'Completed Year 10 or equivalent (%)',\n",
    "    'Did not go to school (%)',\n",
    "    'Highest Year of School Completed - Not stated (%)',\n",
    "    ]\n",
    "selected_rows = [\n",
    "    'Australia',\n",
    "    'New South Wales', \n",
    "    'Victoria',\n",
    "    'Queensland',\n",
    "    'South Australia',\n",
    "    'Western Australia',\n",
    "    'Tasmania',\n",
    "    'Northern Territory',\n",
    "    'Australian Capital Territory'\n",
    "]\n",
    "selected_year = 2016"
   ]
  },
  {
   "cell_type": "code",
   "execution_count": 15,
   "metadata": {},
   "outputs": [],
   "source": [
    "# extract data from file\n",
    "\n",
    "extracted_df = pd.DataFrame(columns=['Label'])\n",
    "df = df[selected_columns] # extract data by columns\n",
    "for index, row in df.iterrows():\n",
    "    if row['Label'] in selected_rows and row['Year'] == selected_year: # extract data by rows and year\n",
    "        extracted_df = extracted_df.append(row)    \n",
    "\n",
    "extracted_df.Year = extracted_df.Year.astype(int) # convert data type to int\n",
    "extracted_df = extracted_df.drop_duplicates(subset=['Label', 'Year'])# remove duplications"
   ]
  },
  {
   "cell_type": "code",
   "execution_count": 19,
   "metadata": {},
   "outputs": [],
   "source": [
    "# save transformed data file\n",
    "\n",
    "extracted_df.to_csv(output_file, sep=',', encoding='utf-8', index=False)"
   ]
  },
  {
   "cell_type": "markdown",
   "metadata": {},
   "source": [
    "## References\n",
    "\n",
    "[1] Australian Bureau of Statistics, 1410.0 - Data by Region, 2014-19, Population and People, ASGS and LGA, 2011, 2014-2019, Australian Bureau of Statistics, 2020. [Dataset] Available:https://www.abs.gov.au/AUSSTATS/abs@.nsf/DetailsPage/1410.02014-19?OpenDocument. [Accessed: January 4, 2021]."
   ]
  }
 ],
 "metadata": {
  "kernelspec": {
   "display_name": "Python 3",
   "language": "python",
   "name": "python3"
  },
  "language_info": {
   "codemirror_mode": {
    "name": "ipython",
    "version": 3
   },
   "file_extension": ".py",
   "mimetype": "text/x-python",
   "name": "python",
   "nbconvert_exporter": "python",
   "pygments_lexer": "ipython3",
   "version": "3.8.3"
  }
 },
 "nbformat": 4,
 "nbformat_minor": 4
}

{
 "cells": [
  {
   "cell_type": "markdown",
   "metadata": {},
   "source": [
    "# Data transformation\n",
    "\n",
    "This jupyter notebook contains open source code for transforming a data from the Australian Bureau of Statistics (ABS). The ABS data “Education and Employment, ASGS and LGA, 2011, 2014-19” is originally from “1410.0 - Data by Region, 2014-19” collection [1] by the ABS. This data collection contains information about the education and employment in Australia between 2014 and 2019. The ABS (https://www.abs.gov.au) is a national statistical agency in Australia, and provides a wide range of statistical data collections on economic, population, environmental, and social issues."
   ]
  },
  {
   "cell_type": "markdown",
   "metadata": {},
   "source": [
    "### Import library"
   ]
  },
  {
   "cell_type": "code",
   "execution_count": 1,
   "metadata": {},
   "outputs": [],
   "source": [
    "import pandas as pd"
   ]
  },
  {
   "cell_type": "code",
   "execution_count": 2,
   "metadata": {},
   "outputs": [],
   "source": [
    "input_file = '14100do0005_2014-19.xlsx'\n",
    "output_file = 'generated_data/transformed_data.csv' "
   ]
  },
  {
   "cell_type": "markdown",
   "metadata": {},
   "source": [
    "### Read data file"
   ]
  },
  {
   "cell_type": "code",
   "execution_count": 3,
   "metadata": {},
   "outputs": [],
   "source": [
    "df = pd.read_excel(input_file, sheet_name = 'Table 1', skiprows=6, header=0, index_col=0)\n",
    "df = df.dropna(subset=['Year'], how='all') # drop rows where it contains null "
   ]
  },
  {
   "cell_type": "markdown",
   "metadata": {},
   "source": [
    "### Extract and transform the data"
   ]
  },
  {
   "cell_type": "code",
   "execution_count": 4,
   "metadata": {},
   "outputs": [],
   "source": [
    "# define columns, rows and year to extract\n",
    "selected_columns = [\n",
    "    'Label', \n",
    "    'Year',\n",
    "    'Completed Year 8 or below (%)',\n",
    "    'Completed Year 9 or equivalent (%)',\n",
    "    'Completed Year 12 or equivalent (%)',\n",
    "    'Completed Year 11 or equivalent (%)',\n",
    "    'Completed Year 10 or equivalent (%)',\n",
    "    'Did not go to school (%)',\n",
    "    'Highest Year of School Completed - Not stated (%)',\n",
    "    ]\n",
    "selected_rows = [\n",
    "    'Australia',\n",
    "    'New South Wales', \n",
    "    'Victoria',\n",
    "    'Queensland',\n",
    "    'South Australia',\n",
    "    'Western Australia',\n",
    "    'Tasmania',\n",
    "    'Northern Territory',\n",
    "    'Australian Capital Territory'\n",
    "]\n",
    "selected_year = 2016"
   ]
  },
  {
   "cell_type": "code",
   "execution_count": 5,
   "metadata": {},
   "outputs": [],
   "source": [
    "extracted_df = pd.DataFrame(columns=['Label'])\n",
    "df = df[selected_columns] # extract data by columns\n",
    "for index, row in df.iterrows():\n",
    "    if row['Label'] in selected_rows and row['Year'] == selected_year: # extract data by rows and year\n",
    "        extracted_df = extracted_df.append(row)    \n",
    "\n",
    "extracted_df.Year = extracted_df.Year.astype(int) # convert data type to int\n",
    "extracted_df = extracted_df.drop_duplicates(subset=['Label', 'Year'])# remove duplications"
   ]
  },
  {
   "cell_type": "markdown",
   "metadata": {},
   "source": [
    "### Save the result"
   ]
  },
  {
   "cell_type": "code",
   "execution_count": 6,
   "metadata": {},
   "outputs": [],
   "source": [
    "extracted_df.to_csv(output_file, sep=',', encoding='utf-8', index=False)"
   ]
  },
  {
   "cell_type": "code",
   "execution_count": 7,
   "metadata": {},
   "outputs": [
    {
     "data": {
      "text/html": [
       "<div>\n",
       "<style scoped>\n",
       "    .dataframe tbody tr th:only-of-type {\n",
       "        vertical-align: middle;\n",
       "    }\n",
       "\n",
       "    .dataframe tbody tr th {\n",
       "        vertical-align: top;\n",
       "    }\n",
       "\n",
       "    .dataframe thead th {\n",
       "        text-align: right;\n",
       "    }\n",
       "</style>\n",
       "<table border=\"1\" class=\"dataframe\">\n",
       "  <thead>\n",
       "    <tr style=\"text-align: right;\">\n",
       "      <th></th>\n",
       "      <th>Label</th>\n",
       "      <th>Completed Year 10 or equivalent (%)</th>\n",
       "      <th>Completed Year 11 or equivalent (%)</th>\n",
       "      <th>Completed Year 12 or equivalent (%)</th>\n",
       "      <th>Completed Year 8 or below (%)</th>\n",
       "      <th>Completed Year 9 or equivalent (%)</th>\n",
       "      <th>Did not go to school (%)</th>\n",
       "      <th>Highest Year of School Completed - Not stated (%)</th>\n",
       "      <th>Year</th>\n",
       "    </tr>\n",
       "  </thead>\n",
       "  <tbody>\n",
       "    <tr>\n",
       "      <th>0</th>\n",
       "      <td>Australia</td>\n",
       "      <td>19.2</td>\n",
       "      <td>9.1</td>\n",
       "      <td>51.9</td>\n",
       "      <td>4.8</td>\n",
       "      <td>5.6</td>\n",
       "      <td>0.9</td>\n",
       "      <td>8.6</td>\n",
       "      <td>2016</td>\n",
       "    </tr>\n",
       "    <tr>\n",
       "      <th>1</th>\n",
       "      <td>New South Wales</td>\n",
       "      <td>21.6</td>\n",
       "      <td>5.8</td>\n",
       "      <td>52.1</td>\n",
       "      <td>4.6</td>\n",
       "      <td>6.3</td>\n",
       "      <td>1.0</td>\n",
       "      <td>8.5</td>\n",
       "      <td>2016</td>\n",
       "    </tr>\n",
       "    <tr>\n",
       "      <th>2</th>\n",
       "      <td>Victoria</td>\n",
       "      <td>13.2</td>\n",
       "      <td>11.6</td>\n",
       "      <td>54.4</td>\n",
       "      <td>5.6</td>\n",
       "      <td>5.8</td>\n",
       "      <td>1.1</td>\n",
       "      <td>8.2</td>\n",
       "      <td>2016</td>\n",
       "    </tr>\n",
       "    <tr>\n",
       "      <th>3</th>\n",
       "      <td>Queensland</td>\n",
       "      <td>22.7</td>\n",
       "      <td>7.8</td>\n",
       "      <td>50.5</td>\n",
       "      <td>4.8</td>\n",
       "      <td>4.8</td>\n",
       "      <td>0.5</td>\n",
       "      <td>9.0</td>\n",
       "      <td>2016</td>\n",
       "    </tr>\n",
       "    <tr>\n",
       "      <th>4</th>\n",
       "      <td>South Australia</td>\n",
       "      <td>15.8</td>\n",
       "      <td>17.4</td>\n",
       "      <td>47.4</td>\n",
       "      <td>5.4</td>\n",
       "      <td>5.4</td>\n",
       "      <td>0.9</td>\n",
       "      <td>7.6</td>\n",
       "      <td>2016</td>\n",
       "    </tr>\n",
       "    <tr>\n",
       "      <th>5</th>\n",
       "      <td>Western Australia</td>\n",
       "      <td>20.6</td>\n",
       "      <td>10.0</td>\n",
       "      <td>51.7</td>\n",
       "      <td>3.2</td>\n",
       "      <td>4.5</td>\n",
       "      <td>0.6</td>\n",
       "      <td>9.4</td>\n",
       "      <td>2016</td>\n",
       "    </tr>\n",
       "    <tr>\n",
       "      <th>6</th>\n",
       "      <td>Tasmania</td>\n",
       "      <td>30.5</td>\n",
       "      <td>8.7</td>\n",
       "      <td>38.3</td>\n",
       "      <td>4.9</td>\n",
       "      <td>8.2</td>\n",
       "      <td>0.4</td>\n",
       "      <td>8.9</td>\n",
       "      <td>2016</td>\n",
       "    </tr>\n",
       "    <tr>\n",
       "      <th>7</th>\n",
       "      <td>Northern Territory</td>\n",
       "      <td>17.3</td>\n",
       "      <td>11.5</td>\n",
       "      <td>42.9</td>\n",
       "      <td>5.9</td>\n",
       "      <td>5.4</td>\n",
       "      <td>1.2</td>\n",
       "      <td>15.8</td>\n",
       "      <td>2016</td>\n",
       "    </tr>\n",
       "    <tr>\n",
       "      <th>8</th>\n",
       "      <td>Australian Capital Territory</td>\n",
       "      <td>12.9</td>\n",
       "      <td>4.8</td>\n",
       "      <td>69.4</td>\n",
       "      <td>2.4</td>\n",
       "      <td>3.4</td>\n",
       "      <td>0.4</td>\n",
       "      <td>6.7</td>\n",
       "      <td>2016</td>\n",
       "    </tr>\n",
       "  </tbody>\n",
       "</table>\n",
       "</div>"
      ],
      "text/plain": [
       "                          Label  Completed Year 10 or equivalent (%)  \\\n",
       "0                     Australia                                 19.2   \n",
       "1               New South Wales                                 21.6   \n",
       "2                      Victoria                                 13.2   \n",
       "3                    Queensland                                 22.7   \n",
       "4               South Australia                                 15.8   \n",
       "5             Western Australia                                 20.6   \n",
       "6                      Tasmania                                 30.5   \n",
       "7            Northern Territory                                 17.3   \n",
       "8  Australian Capital Territory                                 12.9   \n",
       "\n",
       "   Completed Year 11 or equivalent (%)  Completed Year 12 or equivalent (%)  \\\n",
       "0                                  9.1                                 51.9   \n",
       "1                                  5.8                                 52.1   \n",
       "2                                 11.6                                 54.4   \n",
       "3                                  7.8                                 50.5   \n",
       "4                                 17.4                                 47.4   \n",
       "5                                 10.0                                 51.7   \n",
       "6                                  8.7                                 38.3   \n",
       "7                                 11.5                                 42.9   \n",
       "8                                  4.8                                 69.4   \n",
       "\n",
       "   Completed Year 8 or below (%)  Completed Year 9 or equivalent (%)  \\\n",
       "0                            4.8                                 5.6   \n",
       "1                            4.6                                 6.3   \n",
       "2                            5.6                                 5.8   \n",
       "3                            4.8                                 4.8   \n",
       "4                            5.4                                 5.4   \n",
       "5                            3.2                                 4.5   \n",
       "6                            4.9                                 8.2   \n",
       "7                            5.9                                 5.4   \n",
       "8                            2.4                                 3.4   \n",
       "\n",
       "   Did not go to school (%)  \\\n",
       "0                       0.9   \n",
       "1                       1.0   \n",
       "2                       1.1   \n",
       "3                       0.5   \n",
       "4                       0.9   \n",
       "5                       0.6   \n",
       "6                       0.4   \n",
       "7                       1.2   \n",
       "8                       0.4   \n",
       "\n",
       "   Highest Year of School Completed - Not stated (%)  Year  \n",
       "0                                                8.6  2016  \n",
       "1                                                8.5  2016  \n",
       "2                                                8.2  2016  \n",
       "3                                                9.0  2016  \n",
       "4                                                7.6  2016  \n",
       "5                                                9.4  2016  \n",
       "6                                                8.9  2016  \n",
       "7                                               15.8  2016  \n",
       "8                                                6.7  2016  "
      ]
     },
     "execution_count": 7,
     "metadata": {},
     "output_type": "execute_result"
    }
   ],
   "source": [
    "# view the transformed data\n",
    "extracted_df"
   ]
  },
  {
   "cell_type": "markdown",
   "metadata": {},
   "source": [
    "## Conclusion\n",
    "\n",
    "We use python code to transform the ABS data into a required format for data insight generation. The transformed data contains the highest year of school completed in Australia national and state level in 2016."
   ]
  },
  {
   "cell_type": "markdown",
   "metadata": {},
   "source": [
    "## References\n",
    "\n",
    "[1] Australian Bureau of Statistics, 1410.0 - Data by Region, 2014-19, Population and People, ASGS and LGA, 2011, 2014-2019, Australian Bureau of Statistics, 2020. [Dataset] Available:https://www.abs.gov.au/AUSSTATS/abs@.nsf/DetailsPage/1410.02014-19?OpenDocument. [Accessed: January 4, 2021]."
   ]
  }
 ],
 "metadata": {
  "kernelspec": {
   "display_name": "Python 3",
   "language": "python",
   "name": "python3"
  },
  "language_info": {
   "codemirror_mode": {
    "name": "ipython",
    "version": 3
   },
   "file_extension": ".py",
   "mimetype": "text/x-python",
   "name": "python",
   "nbconvert_exporter": "python",
   "pygments_lexer": "ipython3",
   "version": "3.8.3"
  },
  "toc": {
   "base_numbering": 1,
   "nav_menu": {},
   "number_sections": false,
   "sideBar": true,
   "skip_h1_title": false,
   "title_cell": "Table of Contents",
   "title_sidebar": "Contents",
   "toc_cell": false,
   "toc_position": {},
   "toc_section_display": true,
   "toc_window_display": true
  }
 },
 "nbformat": 4,
 "nbformat_minor": 4
}
